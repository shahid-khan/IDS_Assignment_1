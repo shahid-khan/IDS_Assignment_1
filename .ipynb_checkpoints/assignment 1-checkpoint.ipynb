{
 "cells": [
  {
   "cell_type": "markdown",
   "metadata": {},
   "source": [
    "# The first part of the assignment, IDS 2020-2021\n",
    "In this Jupiter notebook, please, document your results and the way you have obtained them. Please use the _Python environment_ provided at the beginning of the course. In addition to the _Jupiter notebook_, please submit _one zip-file_ containing all datasets and other outputs you have generated (such as pdf, jpg, and others). Please make sure that the datasets and other outputs are easily identifiable, i.e. use names as requested in the corresponding question.\n",
    "\n",
    "This is the _only_ submission that is required (Jupiter notebook + zip-file). A separate report is _not_ needed and will not be considered for grading. \n",
    "\n",
    "Give your commented Python code and answers in the corresponding provided cells. Make sure to answer all questions in a clear and explicit manner and discuss your outputs. _Please do not change the general structure of this notebook_. You can, however, add additional markdown or code cells if necessary. <b>Please DO NOT CLEAR THE OUTPUT of the notebook you are submitting! </b>\n",
    "\n",
    "<font color=\"red\"> *Please make sure to include names and matriculation numbers of all group members in the slot provided below.* </font> If a name or a student id is missing, the student will not receive any points.\n",
    "\n",
    "Hint 1: While working on the assignment, you will get a better understanding of the dataset. Feel free to generate additional results and visualizations to support your answers. For example, this might be useful regarding data modification and simplification. <font color=\"red\">Ensure that all your claims are supported.</font>\n",
    "\n",
    "Hint 2: <font color=\"red\">Plan your time wisely. </font> A few parts of this assignment might take some time to run. It might be necessary to consider time management when you plan your group work.\n",
    "\n",
    "Hint 3: RWTHmoodle allows multiple submissions, with every new submission overwriting the previous one. <b>Partial submissions are therefore possible and encouraged. </b> This might be helpful in case of technical issues with RWTHMoodle, which may occur close to the deadline.\n"
   ]
  },
  {
   "cell_type": "markdown",
   "metadata": {},
   "source": [
    "<font color=\"red\"><b>Student Names and IDs:\n",
    "    \n",
    "    1.\n",
    "    \n",
    "    2. \n",
    "    \n",
    "    3. Shahid Khan"
   ]
  },
  {
   "cell_type": "markdown",
   "metadata": {},
   "source": [
    "## Preprocessing of the Dataset (5 points)\n",
    " Carry out the following preprocessing steps before starting the analysis:\n",
    " - Select 90% of dataset provided for this assignment by random sampling.\n",
    "     - Use one of the group member's student numbers as a seed.\n",
    "     - Rename the new generated dataset (which contains 90% of the data) to \"sampled_data\".\n",
    " - <font color='red'>Important!</font>  Export your *sampled_data* dataset and submit it with your assignment solution.\n",
    " - If it is not otherwise mentioned, you should always use your below created *sampled_data* as input for the questions."
   ]
  },
  {
   "cell_type": "code",
   "execution_count": 4,
   "metadata": {},
   "outputs": [
    {
     "name": "stdout",
     "output_type": "stream",
     "text": [
      "      ID  SurfaceR  NumberR TypeR  VegetationR Surroundings1 Surroundings2  \\\n",
      "0      1       600        1     a            4             e             b   \n",
      "1      2       700        1     d            1             h             e   \n",
      "2      3       200        1     d            1             h             e   \n",
      "3      4       300        1     d            0             e             h   \n",
      "4      5       600        2     a            4             h             b   \n",
      "5      6       200        1     d            1             e             e   \n",
      "6      7       500        1     d            0             e             e   \n",
      "7      8       700        1     d            2             h             e   \n",
      "8      9       750        2     d            1             e             a   \n",
      "9     10       200        1     h            4             b             f   \n",
      "10    11       200        1     a            4             b             f   \n",
      "11    12       300        1     i            2             a             b   \n",
      "12    13      7000        1     a            1             b             e   \n",
      "13    14      1700        1     a            1             b             e   \n",
      "14    15      8000        1     a            3             b             h   \n",
      "15    16     30000        1     a            3             a             a   \n",
      "16    17       300        1     h            4             a             a   \n",
      "17    18       300        1     j            1             a             a   \n",
      "18    19      1600        3     a            0             b             e   \n",
      "19    20      3800        6     a            2             e             e   \n",
      "20    21      7000        6     a            1             e             h   \n",
      "21    22      2500        1     a            3             h             b   \n",
      "22    23       800        1     a            0             a             b   \n",
      "23    24      1700        1     a            3             h             e   \n",
      "24    25       300        1     a            2             f             b   \n",
      "25    26      4500        1     a            1             b             b   \n",
      "26    27      1000        1     h            4             b             b   \n",
      "27    28      7000        1     a            4             b             b   \n",
      "28    29     30000        1     a            3             b             b   \n",
      "29    30      7000        1     a            3             b             b   \n",
      "30    31      3300        1     a            3             b             a   \n",
      "31    32      2100        1     a            3             b             g   \n",
      "32    33       500        1     a            0             b             h   \n",
      "33    34       400        2     a            2             b             h   \n",
      "34    35       300        1     a            1             b             h   \n",
      "35    36      1100        1     a            0             b             e   \n",
      "36    37      1000        1     a            2             b             h   \n",
      "37    38       400        1     d            1             e             b   \n",
      "38    39       100        1     a            2             b             e   \n",
      "39    40       100        1     d            1             f             b   \n",
      "40    41     80000        1     h            4             b             b   \n",
      "41    42       200        1     h            4             b             b   \n",
      "42    43       100        1     g            4             b             e   \n",
      "43    44      2500        1     a            3             f             b   \n",
      "44    45     31000        6     a            0             b             f   \n",
      "45    46       500        1     h            4             b             f   \n",
      "46    47     25000        5     a            0             b             g   \n",
      "47    48     40000        1     a            1             b             b   \n",
      "48    49      1900        7     h            4             b             e   \n",
      "49    50        30        1     a            2             b             f   \n",
      "50    51      4300        1     a            3             a             b   \n",
      "51    52      4000        1     a            3             a             a   \n",
      "52    53       300        1     a            4             a             b   \n",
      "53    54       400        1     a            2             a             f   \n",
      "54    55      1000        1     a            1             b             b   \n",
      "55    56      1500        2     b            2             f             b   \n",
      "56    57       300        1     i            3             f             b   \n",
      "57    58       600        1     a            2             f             a   \n",
      "58    59     28300        4     a            1             b             f   \n",
      "59    60      1000        1     a            0             a             e   \n",
      "60    61        50        1     a            2             b             f   \n",
      "61    62      9000        2     b            0             h             a   \n",
      "62    63     19300        2     a            1             b             e   \n",
      "63    64       100        1     a            4             b             g   \n",
      "64    65      3500        1     b            0             e             g   \n",
      "65    66       300        1     h            3             f             b   \n",
      "66    67       100        1     h            4             f             b   \n",
      "67    68       200        1     h            4             f             b   \n",
      "68    69       300        1     h            4             b             b   \n",
      "69    70       300        1     g            3             f             a   \n",
      "70    71       300        1     g            3             a             b   \n",
      "71    72       300        1     i            3             f             b   \n",
      "72    73      1000        1     a            2             b             f   \n",
      "73    74      9100        1     a            0             f             h   \n",
      "74    75       100        1     g            4             a             h   \n",
      "75    76       100        1     a            2             b             f   \n",
      "76    77       300        1     a            3             b             b   \n",
      "77    78       500        2     a            0             b             g   \n",
      "78    79      1000        1     a            3             b             a   \n",
      "79    80       500        1     h            4             f             a   \n",
      "80    81       600        2     a            1             a             h   \n",
      "81    82      1300        1     a            0             a             h   \n",
      "82    83      2000        3     a            4             h             h   \n",
      "83    84       300        1     j            2             b             i   \n",
      "84    85     10050        1     a            2             a             h   \n",
      "85    86      9000        3     a            2             h             h   \n",
      "86    87       300        1     j            3             h             h   \n",
      "87    88       300        1     i            1             b             h   \n",
      "88    89      3500        1     a            2             f             e   \n",
      "89    90       300        1     j            0             b             g   \n",
      "90    91     16000        4     a            2             f             g   \n",
      "91    92       500        1     i            1             -             a   \n",
      "92    93      3500        1     a            3             f             a   \n",
      "93    94       300        1     j            1             a             f   \n",
      "94    95      5000        1     a            0             a             h   \n",
      "95    96     10000        1     a            3             a             h   \n",
      "96    97     10000        4     a            0             h             b   \n",
      "97    98     29000        3     a            2             h             e   \n",
      "98    99      8250        1     a            3             e             b   \n",
      "99   100       250        1     e            1             a             h   \n",
      "100  101     80000        2     a            1             f             e   \n",
      "101  102       300        1     j            1             b             f   \n",
      "102  103    500000        9     a            3             h             e   \n",
      "103  104     50000       10     a            4             b             h   \n",
      "104  105      8000        1     a            2             a             h   \n",
      "105  106       450        1     a            1             e             h   \n",
      "106  107       300        1     j            0             a             h   \n",
      "107  108        50        1     a            1             e             h   \n",
      "108  109        50        1     a            2             h             h   \n",
      "109  110      8300        2     a            2             a             h   \n",
      "110  111      1800        1     a            0             h             a   \n",
      "111  112       150        2     a            1             a             h   \n",
      "112  113       500        1     a            3             h             a   \n",
      "113  114       900        1     a            1             a             h   \n",
      "114  115       300        1     j            1             h             a   \n",
      "115  116       300        1     j            1             h             a   \n",
      "116  117       300        1     j            1             a             h   \n",
      "117  118      3000        1     a            3             b             h   \n",
      "118  119       450        1     a            1             h             h   \n",
      "119  120       300        1     j            1             a             h   \n",
      "120  121       200        1     d            2             h             e   \n",
      "121  122       700        1     a            0             h             e   \n",
      "122  123       300        1     i            1             h             e   \n",
      "123  124       300        1     h            2             h             h   \n",
      "124  125       300        1     j            1             h             h   \n",
      "125  126       300        1     j            1             a             f   \n",
      "126  127       200        1     a            1             e             h   \n",
      "127  128       350        1     a            2             h             a   \n",
      "128  129       300        1     j            1             a             a   \n",
      "129  130      1000        1     h            1             a             a   \n",
      "130  131       100        1     a            1             a             f   \n",
      "131  132       300        1     j            1             a             f   \n",
      "132  133      6300        3     a            0             f             a   \n",
      "133  134      3400        2     b            0             e             f   \n",
      "134  135      2400        2     a            0             b             e   \n",
      "135  136    115000        5     a            0             h             b   \n",
      "136  137     40000        4     a            1             h             f   \n",
      "137  138       300        1     a            0             e             g   \n",
      "138  139      1500        1     a            0             g             e   \n",
      "139  140      4000        2     a            0             a             h   \n",
      "140  141    360000       12     a            1             h             a   \n",
      "141  142      4100        5     a            1             a             h   \n",
      "142  143      2300        1     a            1             b             e   \n",
      "143  144      1500        3     a            1             b             a   \n",
      "144  145       300        1     a            3             b             a   \n",
      "145  146     15000        2     a            2             b             a   \n",
      "146  147      1700        1     a            3             g             e   \n",
      "147  148      2500        2     a            3             b             e   \n",
      "148  149      2400        1     a            2             b             h   \n",
      "149  150       300        1     h            3             b             h   \n",
      "150  151      2600        2     a            2             g             b   \n",
      "151  152       600        1     a            4             g             b   \n",
      "152  153      2000        1     a            3             g             b   \n",
      "153  154     26000        3     a            1             a             b   \n",
      "154  155       350        1     a            0             b             a   \n",
      "155  156       200        1     a            3             b             e   \n",
      "156  157      2300        1     a            2             a             a   \n",
      "157  158       300        1     j            1             a             a   \n",
      "158  159       600        1     d            2             e             e   \n",
      "159  160       300        1     h            3             a             b   \n",
      "160  161      1400        1     a            1             a             b   \n",
      "161  162      3000        1     a            3             b             h   \n",
      "162  163       300        1     j            1             a             a   \n",
      "163  164      2300        1     a            1             b             e   \n",
      "164  165      2600        1     a            2             b             h   \n",
      "165  166       300        1     i            1             b             f   \n",
      "166  167       300        1     a            3             e             b   \n",
      "167  168     22000        1     a            4             e             g   \n",
      "168  169       300        1     h            3             h             b   \n",
      "169  170       300        1     h            4             a             h   \n",
      "170  171      1000        2     a            3             b             e   \n",
      "171  172       300        1     j            1             a             a   \n",
      "172  173       300        1     j            1             a             a   \n",
      "173  174      1100        2     a            3             b             e   \n",
      "174  175       200        1     a            1             e             e   \n",
      "175  176      1000        1     a            4             b             a   \n",
      "176  177       300        1     i            2             b             g   \n",
      "177  178      1000        1     i            2             f             a   \n",
      "178  179      1100        1     d            0             b             a   \n",
      "179  180      2500        1     a            4             b             e   \n",
      "180  181      4000        2     a            1             c             e   \n",
      "181  182       200        1     h            3             h             a   \n",
      "182  183       350        1     a            0             b             e   \n",
      "183  184      4000        1     h            4             b             e   \n",
      "184  185      2300        1     h            3             b             b   \n",
      "185  186       300        1     i            2             f             h   \n",
      "186  187       500        1     a            4             a             h   \n",
      "187  188       300        1     h            3             b             a   \n",
      "188  189       300        1     h            3             b             e   \n",
      "\n",
      "    Surroundings3  UseR  FishingR  AcessR  RoadDistanceR  BuildingR  \\\n",
      "0               h     0         0      50              0          0   \n",
      "1               h     3         1      75              1          1   \n",
      "2               h     3         4      75              1          1   \n",
      "3               b     3         4      25              0          0   \n",
      "4               e     0         0      99              0          5   \n",
      "5               h     1         0      50              0          0   \n",
      "6               h     1         2      25              0          0   \n",
      "7               g     0         0     100              1          1   \n",
      "8               b     0         1      50              1          0   \n",
      "9               e     0         0      75              1          0   \n",
      "10              a     0         0     100              2          1   \n",
      "11              f     0         0     100              2          1   \n",
      "12              h     3         3      50              1          5   \n",
      "13              h     0         1     100              2          2   \n",
      "14              f     0         0     100              9          9   \n",
      "15              a     0         0     100              2         10   \n",
      "16              a     0         0     100              5         10   \n",
      "17              g     0         0      75              0          5   \n",
      "18              b     3         1      75              2          1   \n",
      "19              b     3         1      25              0          0   \n",
      "20              b     3         4      50              0          0   \n",
      "21              e     0         1     100              0          1   \n",
      "22              f     3         4     100              2          1   \n",
      "23              b     0         0     100              0          0   \n",
      "24              h     0         0     100              5          5   \n",
      "25              g     3         2     100              9          9   \n",
      "26              a     0         0     100              5          9   \n",
      "27              a     0         0     100              5          5   \n",
      "28              a     1         0     100              5          5   \n",
      "29              f     0         0     100              0          1   \n",
      "30              f     0         0     100              5          5   \n",
      "31              b     0         0      50              0          1   \n",
      "32              e     3         4     100              2          1   \n",
      "33              h     0         0     100              1          5   \n",
      "34              h     0         0     100              2          2   \n",
      "35              h     3         4     100              2          2   \n",
      "36              e     0         0     100              1          1   \n",
      "37              h     1         0      75              2          0   \n",
      "38              h     0         0     100              1          1   \n",
      "39              e     3         0     100              2          1   \n",
      "40              f     0         0     100              5          5   \n",
      "41              f     0         0     100              5          5   \n",
      "42              f     0         0     100              5          5   \n",
      "43              g     0         0      75              0          2   \n",
      "44              e     3         4     100              5          5   \n",
      "45              b     0         0     100              5          5   \n",
      "46              f     3         4      75              0          0   \n",
      "47              e     3         2     100              5          0   \n",
      "48              f     0         0     100              5          5   \n",
      "49              e     0         0      75              0          1   \n",
      "50              b     0         0     100              5          5   \n",
      "51              b     0         0     100              5          5   \n",
      "52              e     0         0      99              2          2   \n",
      "53              e     0         0     100              0          1   \n",
      "54              a     0         0     100              5          5   \n",
      "55              e     1         2     100              5          0   \n",
      "56              a     0         0     100              5          5   \n",
      "57              h     0         0     100              2          2   \n",
      "58              e     3         2     100              0          0   \n",
      "59              f     3         3      75              0          0   \n",
      "60              h     0         0     100              5          5   \n",
      "61              f     1         2     100              1          1   \n",
      "62              a     3         3      75              2          0   \n",
      "63              a     0         0     100              1          2   \n",
      "64              b     0         0      50              0          0   \n",
      "65              a     0         0     100              5          5   \n",
      "66              a     0         0     100              5          5   \n",
      "67              e     0         0     100              0          0   \n",
      "68              f     0         0     100              2          5   \n",
      "69              a     0         0     100             10         10   \n",
      "70              h     0         0     100             10         10   \n",
      "71              a     0         0     100              5          5   \n",
      "72              g     0         0      75              0          0   \n",
      "73              b     3         3     100              5          5   \n",
      "74              b     0         0     100             10         10   \n",
      "75              e     0         0     100              2          2   \n",
      "76              a     0         0     100              5          1   \n",
      "77              a     3         3     100              1          2   \n",
      "78              g     0         0     100              2          5   \n",
      "79              a     0         0     100             10         10   \n",
      "80              e     3         1     100              1          0   \n",
      "81              e     3         1     100              1          1   \n",
      "82              i     0         0     100              5          5   \n",
      "83              e     0         0     100              2          5   \n",
      "84              e     0         1     100              5          5   \n",
      "85              h     0         1     100              9          9   \n",
      "86              h     0         0     100              9          9   \n",
      "87              h     0         0     100              5          5   \n",
      "88              a     0         0     100              2          2   \n",
      "89              f     0         0     100              1          1   \n",
      "90              b     0         2     100              1          5   \n",
      "91              e     0         0     100              2          2   \n",
      "92              b     0         0     100              2          2   \n",
      "93              b     0         0     100              5          5   \n",
      "94              b     3         2     100              5          5   \n",
      "95              e     0         1     100              5          5   \n",
      "96              e     0         1      75              0          0   \n",
      "97              a     3         3     100              2          0   \n",
      "98              h     0         0     100              1          2   \n",
      "99              e     0         0     100              2          5   \n",
      "100             b     3         4     100              2          2   \n",
      "101             b     0         0     100              1          1   \n",
      "102             b     3         3      75              1          1   \n",
      "103             e     0         0     100              2          2   \n",
      "104             e     3         2     100              0          2   \n",
      "105             h     0         1      25              1          1   \n",
      "106             e     0         0     100              0          1   \n",
      "107             h     0         0      50              0          0   \n",
      "108             e     0         0     100              9          5   \n",
      "109             e     3         3     100              2          2   \n",
      "110             e     3         2     100              1          2   \n",
      "111             e     0         1     100              0          1   \n",
      "112             e     0         0      75              0          1   \n",
      "113             e     3         2     100              2          2   \n",
      "114             e     0         0     100              1          1   \n",
      "115             e     0         0     100              1          1   \n",
      "116             e     1         0     100              1          1   \n",
      "117             e     0         1     100              5          5   \n",
      "118             h     3         3     100              5          2   \n",
      "119             e     0         0     100              5          5   \n",
      "120             a     3         0     100              1          1   \n",
      "121             f     3         2     100              1          1   \n",
      "122             b     0         0     100              1          1   \n",
      "123             b     0         0      50              2          5   \n",
      "124             e     0         0     100              0          2   \n",
      "125             e     0         0     100              1          1   \n",
      "126             a     0         0     100              1          1   \n",
      "127             e     0         0     100              1          1   \n",
      "128             a     0         0     100              5          5   \n",
      "129             h     0         0     100              2          9   \n",
      "130             h     0         0     100              9          9   \n",
      "131             a     0         0     100              2          5   \n",
      "132             d     0         0     100              2          1   \n",
      "133             h     0         0      75              1          1   \n",
      "134             h     3         4      75              1          1   \n",
      "135             e     3         4     100              0          1   \n",
      "136             e     3         4     100              1          1   \n",
      "137             b     3         3      50              0          0   \n",
      "138             e     3         0      25              0          0   \n",
      "139             e     3         4     100              2          1   \n",
      "140             f     3         4     100              1          1   \n",
      "141             b     3         3     100              0          1   \n",
      "142             h     1         3     100              0          0   \n",
      "143             h     3         3     100              2          2   \n",
      "144             e     0         0     100              2          1   \n",
      "145             h     3         3     100              0          1   \n",
      "146             b     0         0      25              0          0   \n",
      "147             h     0         0      75              0          0   \n",
      "148             a     0         1     100              1          1   \n",
      "149             a     0         0     100              1          1   \n",
      "150             e     3         2      50              0          1   \n",
      "151             h     0         0      50              0          0   \n",
      "152             e     0         0      50              0          0   \n",
      "153             h     3         4     100              1          2   \n",
      "154             h     3         3     100              1          1   \n",
      "155             d     0         0      50              1          1   \n",
      "156             e     0         0     100              2          1   \n",
      "157             e     0         0     100              1          1   \n",
      "158             h     3         2     100              2          2   \n",
      "159             h     0         0     100              1          2   \n",
      "160             h     0         0     100              5          5   \n",
      "161             a     0         0     100              5          2   \n",
      "162             h     0         0     100              5          5   \n",
      "163             h     3         3      50              1          0   \n",
      "164             e     0         0      50              0          0   \n",
      "165             h     0         0     100              2          0   \n",
      "166             g     0         0      25              0          0   \n",
      "167             e     0         0     100              0          0   \n",
      "168             a     0         0     100              2          0   \n",
      "169             b     0         0     100              5          5   \n",
      "170             a     0         0     100              0          1   \n",
      "171             g     0         0     100              0          1   \n",
      "172             h     0         0     100              9          5   \n",
      "173             e     0         0     100              0          0   \n",
      "174             b     0         0      75              0          0   \n",
      "175             e     0         0     100              1          1   \n",
      "176             f     0         0      75              0          2   \n",
      "177             g     0         0      75              1          2   \n",
      "178             h     3         3     100              5          1   \n",
      "179             f     0         0     100              5          1   \n",
      "180             g     3         2      80              1          1   \n",
      "181             e     0         0     100              1          2   \n",
      "182             h     1         3     100              1          1   \n",
      "183             h     0         0     100              1          1   \n",
      "184             a     0         0      75              2          1   \n",
      "185             b     0         0     100              5          5   \n",
      "186             b     0         0     100              5          5   \n",
      "187             e     0         0     100              1          0   \n",
      "188             h     0         0     100              1          1   \n",
      "\n",
      "     PollutionR    ShoreR  Green frogs  Brown frogs  Common toad  \\\n",
      "0             0   natural            0            0            0   \n",
      "1             0   natural            0            1            1   \n",
      "2             0   natural            0            1            1   \n",
      "3             0   natural            0            0            1   \n",
      "4             0   natural            0            1            1   \n",
      "5             0   natural            0            0            0   \n",
      "6             0  concrete            0            0            1   \n",
      "7             0   natural            1            1            0   \n",
      "8             0   natural            0            1            1   \n",
      "9             0   natural            0            1            1   \n",
      "10            0   natural            1            0            0   \n",
      "11            0   natural            0            1            1   \n",
      "12            0   natural            1            0            1   \n",
      "13            2   natural            1            1            1   \n",
      "14            0   natural            0            1            1   \n",
      "15            0   natural            1            1            1   \n",
      "16            0   natural            0            1            1   \n",
      "17            0   natural            0            1            1   \n",
      "18            0   natural            1            1            1   \n",
      "19            0   natural            1            0            1   \n",
      "20            0   natural            1            0            1   \n",
      "21            0   natural            1            0            1   \n",
      "22            0   natural            0            1            1   \n",
      "23            0   natural            0            1            1   \n",
      "24            2   natural            1            0            0   \n",
      "25            0   natural            1            1            1   \n",
      "26            0   natural            0            1            0   \n",
      "27            0   natural            0            0            0   \n",
      "28            0   natural            1            1            1   \n",
      "29            0   natural            0            1            1   \n",
      "30            0   natural            0            1            0   \n",
      "31            0   natural            0            0            0   \n",
      "32            0   natural            1            1            0   \n",
      "33            0   natural            0            1            0   \n",
      "34            0   natural            0            1            1   \n",
      "35            0   natural            0            1            1   \n",
      "36            0   natural            0            0            0   \n",
      "37            0   natural            0            0            1   \n",
      "38            0   natural            0            1            0   \n",
      "39            0   natural            1            0            0   \n",
      "40            0   natural            1            0            0   \n",
      "41            0   natural            0            0            1   \n",
      "42            0   natural            0            0            1   \n",
      "43            0   natural            0            1            0   \n",
      "44            0   natural            1            1            1   \n",
      "45            0   natural            1            1            1   \n",
      "46            0   natural            1            0            0   \n",
      "47            0   natural            1            1            0   \n",
      "48            0   natural            1            1            0   \n",
      "49            0   natural            0            1            1   \n",
      "50            0   natural            1            1            1   \n",
      "51            0   natural            1            1            1   \n",
      "52            0   natural            0            1            0   \n",
      "53            0   natural            0            1            0   \n",
      "54            0   natural            1            1            1   \n",
      "55            0   natural            0            1            1   \n",
      "56            0   natural            1            1            1   \n",
      "57            0   natural            0            0            0   \n",
      "58            0   natural            1            1            1   \n",
      "59            0   natural            1            0            1   \n",
      "60            0   natural            1            1            1   \n",
      "61            0   natural            1            0            1   \n",
      "62            0   natural            1            1            1   \n",
      "63            0   natural            1            0            1   \n",
      "64            0   natural            1            1            1   \n",
      "65            0   natural            1            1            0   \n",
      "66            0   natural            0            1            0   \n",
      "67            0   natural            0            1            0   \n",
      "68            0   natural            0            1            0   \n",
      "69            0   natural            1            1            1   \n",
      "70            0   natural            1            1            0   \n",
      "71            0   natural            1            1            1   \n",
      "72            0   natural            0            0            1   \n",
      "73            0   natural            1            0            0   \n",
      "74            0   natural            1            1            1   \n",
      "75            2   natural            1            0            0   \n",
      "76            0   natural            0            0            0   \n",
      "77            0   natural            0            0            1   \n",
      "78            0   natural            0            0            0   \n",
      "79            0   natural            1            0            1   \n",
      "80            0   natural            1            1            1   \n",
      "81            0   natural            0            1            1   \n",
      "82            0   natural            0            1            1   \n",
      "83            0   natural            0            1            1   \n",
      "84            0   natural            0            1            1   \n",
      "85            0   natural            1            1            1   \n",
      "86            0   natural            0            1            1   \n",
      "87            0   natural            0            1            1   \n",
      "88            0   natural            1            1            1   \n",
      "89            0   natural            1            0            0   \n",
      "90            0   natural            1            1            1   \n",
      "91            0   natural            1            1            1   \n",
      "92            0   natural            1            1            1   \n",
      "93            0   natural            1            1            0   \n",
      "94            0   natural            1            1            1   \n",
      "95            0   natural            1            1            1   \n",
      "96            0   natural            0            1            1   \n",
      "97            0   natural            1            1            1   \n",
      "98            0   natural            1            1            1   \n",
      "99            0   natural            1            1            1   \n",
      "100           0   natural            1            1            1   \n",
      "101           0   natural            0            1            1   \n",
      "102           0   natural            1            1            1   \n",
      "103           0   natural            1            1            1   \n",
      "104           0   natural            1            1            0   \n",
      "105           0   natural            1            1            1   \n",
      "106           0   natural            0            1            0   \n",
      "107           0   natural            0            1            1   \n",
      "108           0   natural            1            1            0   \n",
      "109           0   natural            1            1            1   \n",
      "110           0   natural            1            1            1   \n",
      "111           0   natural            1            1            1   \n",
      "112           0   natural            1            1            1   \n",
      "113           0   natural            1            1            1   \n",
      "114           0   natural            0            1            1   \n",
      "115           0   natural            0            1            1   \n",
      "116           0   natural            0            1            0   \n",
      "117           0   natural            1            1            1   \n",
      "118           0   natural            1            1            0   \n",
      "119           0   natural            1            0            0   \n",
      "120           0   natural            1            1            1   \n",
      "121           0   natural            1            1            1   \n",
      "122           0   natural            0            1            0   \n",
      "123           0   natural            0            1            0   \n",
      "124           0   natural            0            0            0   \n",
      "125           0   natural            0            0            0   \n",
      "126           0   natural            1            1            1   \n",
      "127           0   natural            1            1            1   \n",
      "128           0   natural            0            0            0   \n",
      "129           0   natural            0            1            0   \n",
      "130           0   natural            0            1            1   \n",
      "131           0   natural            0            0            0   \n",
      "132           0   natural            1            1            1   \n",
      "133           0   natural            1            0            0   \n",
      "134           0   natural            1            0            0   \n",
      "135           0   natural            1            1            0   \n",
      "136           0   natural            1            1            1   \n",
      "137           0   natural            1            1            1   \n",
      "138           0   natural            1            0            0   \n",
      "139           0   natural            1            1            0   \n",
      "140           0   natural            1            1            1   \n",
      "141           0   natural            1            1            1   \n",
      "142           0   natural            1            1            1   \n",
      "143           0   natural            1            1            1   \n",
      "144           0   natural            1            1            0   \n",
      "145           0   natural            1            1            1   \n",
      "146           0   natural            1            1            1   \n",
      "147           0   natural            1            1            1   \n",
      "148           0   natural            1            1            1   \n",
      "149           0   natural            1            1            1   \n",
      "150           0   natural            1            1            1   \n",
      "151           0   natural            0            1            0   \n",
      "152           0   natural            1            1            1   \n",
      "153           0   natural            1            1            1   \n",
      "154           0   natural            1            1            1   \n",
      "155           1  concrete            1            1            1   \n",
      "156           0   natural            1            1            1   \n",
      "157           2   natural            0            1            0   \n",
      "158           0   natural            1            1            1   \n",
      "159           0   natural            0            1            0   \n",
      "160           0   natural            1            1            1   \n",
      "161           0   natural            1            1            1   \n",
      "162           0   natural            0            1            0   \n",
      "163           0   natural            1            1            1   \n",
      "164           0   natural            1            1            1   \n",
      "165           0   natural            0            1            1   \n",
      "166           0   natural            1            1            1   \n",
      "167           0   natural            1            1            1   \n",
      "168           0   natural            0            1            0   \n",
      "169           0   natural            0            1            0   \n",
      "170           0   natural            1            1            1   \n",
      "171           0   natural            0            1            0   \n",
      "172           0   natural            0            1            0   \n",
      "173           0   natural            0            1            1   \n",
      "174           0   natural            0            1            1   \n",
      "175           0   natural            1            0            0   \n",
      "176           0   natural            0            1            0   \n",
      "177           0   natural            0            1            0   \n",
      "178           0  concrete            0            0            0   \n",
      "179           0   natural            1            1            1   \n",
      "180           0   natural            1            1            1   \n",
      "181           0   natural            0            1            1   \n",
      "182           0   natural            1            1            1   \n",
      "183           0   natural            0            1            1   \n",
      "184           0   natural            0            1            0   \n",
      "185           0   natural            1            1            1   \n",
      "186           0   natural            1            1            1   \n",
      "187           0   natural            0            1            1   \n",
      "188           0   natural            0            1            1   \n",
      "\n",
      "     Fire-bellied toad  Tree frog  Common newt  Great crested newt  \n",
      "0                    0          0            0                   0  \n",
      "1                    0          0            1                   0  \n",
      "2                    0          0            1                   0  \n",
      "3                    0          0            0                   0  \n",
      "4                    1          0            1                   1  \n",
      "5                    0          0            0                   0  \n",
      "6                    0          0            0                   0  \n",
      "7                    1          0            0                   0  \n",
      "8                    0          0            0                   0  \n",
      "9                    0          0            0                   0  \n",
      "10                   0          0            0                   0  \n",
      "11                   0          0            0                   0  \n",
      "12                   0          0            0                   0  \n",
      "13                   0          0            0                   0  \n",
      "14                   0          0            0                   0  \n",
      "15                   1          1            0                   0  \n",
      "16                   0          1            0                   0  \n",
      "17                   0          0            0                   0  \n",
      "18                   1          0            0                   0  \n",
      "19                   0          1            0                   0  \n",
      "20                   0          0            0                   0  \n",
      "21                   0          0            1                   0  \n",
      "22                   0          0            0                   0  \n",
      "23                   0          0            0                   0  \n",
      "24                   0          0            1                   0  \n",
      "25                   0          1            0                   0  \n",
      "26                   0          0            0                   0  \n",
      "27                   1          1            0                   1  \n",
      "28                   0          0            1                   1  \n",
      "29                   0          1            0                   0  \n",
      "30                   0          1            0                   0  \n",
      "31                   0          1            0                   0  \n",
      "32                   0          0            0                   0  \n",
      "33                   0          0            0                   0  \n",
      "34                   0          0            0                   0  \n",
      "35                   0          0            0                   0  \n",
      "36                   1          0            0                   0  \n",
      "37                   0          1            0                   1  \n",
      "38                   0          0            0                   0  \n",
      "39                   0          0            0                   0  \n",
      "40                   1          1            0                   0  \n",
      "41                   1          1            0                   0  \n",
      "42                   0          1            0                   0  \n",
      "43                   0          0            0                   0  \n",
      "44                   0          0            0                   0  \n",
      "45                   1          1            0                   0  \n",
      "46                   1          0            0                   0  \n",
      "47                   1          0            1                   0  \n",
      "48                   0          1            1                   0  \n",
      "49                   0          0            1                   0  \n",
      "50                   0          1            0                   1  \n",
      "51                   0          0            0                   0  \n",
      "52                   0          0            0                   0  \n",
      "53                   0          0            1                   0  \n",
      "54                   1          1            1                   0  \n",
      "55                   0          0            0                   0  \n",
      "56                   0          1            1                   0  \n",
      "57                   0          1            0                   0  \n",
      "58                   1          0            0                   0  \n",
      "59                   0          0            0                   0  \n",
      "60                   1          0            0                   0  \n",
      "61                   0          0            0                   0  \n",
      "62                   1          1            0                   0  \n",
      "63                   0          0            0                   0  \n",
      "64                   0          0            0                   0  \n",
      "65                   0          0            0                   0  \n",
      "66                   0          0            0                   0  \n",
      "67                   0          0            0                   0  \n",
      "68                   0          0            0                   0  \n",
      "69                   0          1            0                   0  \n",
      "70                   1          0            0                   0  \n",
      "71                   0          0            0                   0  \n",
      "72                   0          0            0                   0  \n",
      "73                   0          0            0                   0  \n",
      "74                   0          1            0                   0  \n",
      "75                   0          0            0                   0  \n",
      "76                   1          1            0                   0  \n",
      "77                   0          0            0                   0  \n",
      "78                   0          1            0                   0  \n",
      "79                   0          0            1                   0  \n",
      "80                   0          1            1                   1  \n",
      "81                   0          0            0                   0  \n",
      "82                   0          0            0                   0  \n",
      "83                   0          1            0                   0  \n",
      "84                   1          0            1                   1  \n",
      "85                   0          1            0                   0  \n",
      "86                   0          1            0                   0  \n",
      "87                   0          1            0                   0  \n",
      "88                   1          0            1                   0  \n",
      "89                   0          0            0                   0  \n",
      "90                   1          0            1                   0  \n",
      "91                   1          0            1                   0  \n",
      "92                   0          0            1                   0  \n",
      "93                   1          0            1                   0  \n",
      "94                   1          0            1                   0  \n",
      "95                   1          1            1                   1  \n",
      "96                   0          1            0                   0  \n",
      "97                   1          1            1                   1  \n",
      "98                   1          1            1                   1  \n",
      "99                   1          1            1                   1  \n",
      "100                  0          0            0                   0  \n",
      "101                  0          0            0                   0  \n",
      "102                  1          1            1                   1  \n",
      "103                  1          1            1                   1  \n",
      "104                  0          0            0                   0  \n",
      "105                  0          1            1                   0  \n",
      "106                  0          0            0                   0  \n",
      "107                  0          1            0                   0  \n",
      "108                  0          0            0                   0  \n",
      "109                  0          1            0                   0  \n",
      "110                  1          1            1                   1  \n",
      "111                  1          1            1                   1  \n",
      "112                  1          1            1                   0  \n",
      "113                  1          1            1                   0  \n",
      "114                  0          0            0                   0  \n",
      "115                  0          0            0                   0  \n",
      "116                  0          0            0                   0  \n",
      "117                  0          0            1                   0  \n",
      "118                  1          0            1                   0  \n",
      "119                  1          0            0                   0  \n",
      "120                  0          0            0                   0  \n",
      "121                  0          1            1                   1  \n",
      "122                  0          0            0                   0  \n",
      "123                  0          0            0                   0  \n",
      "124                  0          0            0                   0  \n",
      "125                  0          1            0                   0  \n",
      "126                  1          1            1                   1  \n",
      "127                  1          1            1                   0  \n",
      "128                  0          0            0                   0  \n",
      "129                  0          0            0                   0  \n",
      "130                  1          0            0                   0  \n",
      "131                  0          0            0                   0  \n",
      "132                  0          0            0                   0  \n",
      "133                  0          0            1                   0  \n",
      "134                  0          0            0                   0  \n",
      "135                  0          0            0                   0  \n",
      "136                  1          1            0                   0  \n",
      "137                  0          1            0                   0  \n",
      "138                  0          0            0                   0  \n",
      "139                  0          0            0                   0  \n",
      "140                  1          1            1                   0  \n",
      "141                  0          1            0                   0  \n",
      "142                  1          1            1                   0  \n",
      "143                  1          1            1                   0  \n",
      "144                  0          0            0                   0  \n",
      "145                  0          0            1                   0  \n",
      "146                  0          1            1                   0  \n",
      "147                  1          0            1                   0  \n",
      "148                  0          1            1                   0  \n",
      "149                  1          1            0                   0  \n",
      "150                  0          0            0                   0  \n",
      "151                  1          0            0                   0  \n",
      "152                  0          0            0                   0  \n",
      "153                  1          1            1                   0  \n",
      "154                  1          1            1                   0  \n",
      "155                  0          0            0                   0  \n",
      "156                  0          1            1                   0  \n",
      "157                  0          0            0                   0  \n",
      "158                  1          1            1                   0  \n",
      "159                  0          0            0                   0  \n",
      "160                  1          1            1                   0  \n",
      "161                  1          1            1                   0  \n",
      "162                  0          0            0                   0  \n",
      "163                  0          1            0                   0  \n",
      "164                  0          1            0                   0  \n",
      "165                  1          0            0                   0  \n",
      "166                  1          1            0                   0  \n",
      "167                  1          1            0                   0  \n",
      "168                  0          0            0                   0  \n",
      "169                  0          0            0                   0  \n",
      "170                  1          1            1                   1  \n",
      "171                  0          0            0                   0  \n",
      "172                  0          0            0                   0  \n",
      "173                  1          1            1                   1  \n",
      "174                  1          1            1                   1  \n",
      "175                  0          1            0                   0  \n",
      "176                  0          0            0                   0  \n",
      "177                  0          0            0                   0  \n",
      "178                  0          0            0                   0  \n",
      "179                  0          1            1                   0  \n",
      "180                  0          1            1                   1  \n",
      "181                  0          0            0                   0  \n",
      "182                  0          0            0                   0  \n",
      "183                  0          0            0                   0  \n",
      "184                  0          0            0                   0  \n",
      "185                  1          0            1                   0  \n",
      "186                  1          0            1                   0  \n",
      "187                  0          0            0                   0  \n",
      "188                  0          0            0                   0  \n"
     ]
    }
   ],
   "source": [
    "import pandas as pd\n",
    "sampled_data = pd.read_csv(\"dataset.csv\")\n",
    "with pd.option_context('display.max_rows', None, 'display.max_columns', None):  # more options can be specified also\n",
    "    print(sampled_data)"
   ]
  },
  {
   "cell_type": "markdown",
   "metadata": {},
   "source": [
    "## Question 1 - Insights into the Data (15 points):"
   ]
  },
  {
   "cell_type": "markdown",
   "metadata": {},
   "source": [
    "   (a)  Generate a dataset by removing those rows of the sampled_data dataset for which the value of \"SurfaceR\" is equal or bigger than 50000. Let's call this data set \"new_sampled_data\"."
   ]
  },
  {
   "cell_type": "code",
   "execution_count": null,
   "metadata": {},
   "outputs": [],
   "source": [
    "# Your code"
   ]
  },
  {
   "cell_type": "markdown",
   "metadata": {},
   "source": [
    "   (b)  Use a boxplot to find and remove the outliers from \"SurfaceR\". Note that based on the boxplot the values greater than the upper-whisker and lower than the lower-whisker are considered as outliers. Let's call the dataset after removing the outliers \"cleaned_data\". Now you should  have three datasets (sampled_data, new_sampled_data, and cleaned_data). "
   ]
  },
  {
   "cell_type": "code",
   "execution_count": null,
   "metadata": {},
   "outputs": [],
   "source": [
    "# Your code"
   ]
  },
  {
   "cell_type": "markdown",
   "metadata": {},
   "source": [
    "   (c) Compare basic statistical features of \"SurfaceR\" (median, mean, and mode, standard deviation, variance) in the new_sampled_data and cleaned_data datasets.    Interpret the differences for these statistical values between the cleaned_data and new_sampled_data datasets. Explain why the statistics of these two datasets are different."
   ]
  },
  {
   "cell_type": "code",
   "execution_count": null,
   "metadata": {},
   "outputs": [],
   "source": [
    "# Your code"
   ]
  },
  {
   "cell_type": "code",
   "execution_count": null,
   "metadata": {},
   "outputs": [],
   "source": [
    "# Your code if needed"
   ]
  },
  {
   "cell_type": "markdown",
   "metadata": {},
   "source": [
    "Explanation: "
   ]
  },
  {
   "cell_type": "markdown",
   "metadata": {},
   "source": [
    "### Basic Visualization (10 points)\n",
    "(d) Visualize mean and median of \"SurfaceR\" in the cleaned dataset. Specify the \"Surroundings3\" values for which the mean and median of \"SurfaceR\" is maximal and for which it is minimal."
   ]
  },
  {
   "cell_type": "code",
   "execution_count": null,
   "metadata": {},
   "outputs": [],
   "source": [
    "# Your code"
   ]
  },
  {
   "cell_type": "markdown",
   "metadata": {},
   "source": [
    "Explanation:"
   ]
  },
  {
   "cell_type": "markdown",
   "metadata": {},
   "source": [
    "   (e) Plot the distribution of \"SurfaceR\" in the new_sampled_data and cleaned_data datasets."
   ]
  },
  {
   "cell_type": "code",
   "execution_count": null,
   "metadata": {},
   "outputs": [],
   "source": [
    "# Your code"
   ]
  },
  {
   "cell_type": "markdown",
   "metadata": {},
   "source": [
    "   (f) Explore the distribution of \"SurfaceR\" and \"AcessR\" together in the new_sampled_data and cleaned_data datasets. Specify the ranges of \"SurfaceR\" and \"AcessR\" for which the frequency of the data is the highest."
   ]
  },
  {
   "cell_type": "code",
   "execution_count": null,
   "metadata": {},
   "outputs": [],
   "source": [
    "# Your code"
   ]
  },
  {
   "cell_type": "markdown",
   "metadata": {},
   "source": [
    "Explanation:\n",
    "\n",
    "For both datasets, the highest frequency happens when AcessR=100 and SurfaceR=0."
   ]
  },
  {
   "cell_type": "markdown",
   "metadata": {},
   "source": [
    "## Question 2 - Decision Trees (15 points):"
   ]
  },
  {
   "cell_type": "markdown",
   "metadata": {},
   "source": [
    "   (a) Add a categorical column \"number_frogs\" to the new_sampled_data which indicate the number of different frogs in each region (row). For example, if in a row we have:\n",
    "       - \"Green frogs\" = 1, \"Brown frogs\" = 1, \"Common toad\" = 0, \"Fire-bellied toad\" = 0, \"Tree frog\" = 0, \"Common newt\" = 0, and \"Great crested newt\" = 0, then \"number_frogs\" = 'two'.\n",
    "       - \"Green frogs\" = 1, \"Brown frogs\" = 1, \"Common toad\" = 0, \"Fire-bellied toad\" = 0, \"Tree frog\" = 1, \"Common newt\" = 1, and \"Great crested newt\" = 0, then \"number_frogs\" = 'four'."
   ]
  },
  {
   "cell_type": "code",
   "execution_count": null,
   "metadata": {},
   "outputs": [],
   "source": [
    "# Your code"
   ]
  },
  {
   "cell_type": "markdown",
   "metadata": {},
   "source": [
    "   (b) In the new dataset (created in Section 'a'), consider \"TypeR\", \"VegetationR\", \"Surroundings1\", \"Surroundings2\", \"Surroundings3\" as    the descriptive features and \"number_frogs\" as the target feature. Generate two decision trees. Let's call them \"tree1\" and \"tree2\". In tree1 set the minimum number of samples for splitting to 15 and in tree2 set the minimum number of samples for splitting to 1. Create both decision trees based on entropy."
   ]
  },
  {
   "cell_type": "code",
   "execution_count": null,
   "metadata": {},
   "outputs": [],
   "source": [
    "# Your code"
   ]
  },
  {
   "cell_type": "markdown",
   "metadata": {},
   "source": [
    "   (c) Consider tree1. What is the best attribute (based on entropy) for splitting the tree in the second round of ID3 regarding the value of the attribute chosen in the first round of ID3?    "
   ]
  },
  {
   "cell_type": "markdown",
   "metadata": {},
   "source": [
    "Explanation: "
   ]
  },
  {
   "cell_type": "markdown",
   "metadata": {},
   "source": [
    "   (d) Compare tree1 and tree2 in terms of the possibility of overfitting and the complexity of the decision trees."
   ]
  },
  {
   "cell_type": "markdown",
   "metadata": {},
   "source": [
    "Explanation:"
   ]
  },
  {
   "cell_type": "markdown",
   "metadata": {},
   "source": [
    "## Question 3 - Regression (14 points):\n",
    "\n",
    "For this question (Q3), create and use a restricted dataset by removing the columns \"ID\", \"NumberR\", \"Surrounding1\", \"Surrounding2\", \"Surrounding3\", \"Common toad\", \"Fire-bellied toad\", \"Tree frog\", \"Common newt\", \"Great crested newt\" from the sampled_data.\n",
    "\n",
    "In this question, we consider \"Green frogs\" and \"Brown frogs\" to be potential target features, while all other features are potential descriptive features."
   ]
  },
  {
   "cell_type": "code",
   "execution_count": null,
   "metadata": {},
   "outputs": [],
   "source": [
    "# Your code"
   ]
  },
  {
   "cell_type": "markdown",
   "metadata": {},
   "source": [
    "   (a) Which features are suitable as input for logistic regression? Which would need to be modified first? Explain your answers."
   ]
  },
  {
   "cell_type": "code",
   "execution_count": null,
   "metadata": {},
   "outputs": [],
   "source": [
    "# Your code"
   ]
  },
  {
   "cell_type": "markdown",
   "metadata": {},
   "source": [
    "Explanation:"
   ]
  },
  {
   "cell_type": "markdown",
   "metadata": {},
   "source": [
    "   (b) Implement and briefly motivate an adequate modification. Print the resulting data set limited to the first two data rows. "
   ]
  },
  {
   "cell_type": "markdown",
   "metadata": {},
   "source": [
    "Explanation:"
   ]
  },
  {
   "cell_type": "code",
   "execution_count": null,
   "metadata": {},
   "outputs": [],
   "source": [
    "# Your code"
   ]
  },
  {
   "cell_type": "markdown",
   "metadata": {},
   "source": [
    "(c) We want to predict the presence of green frogs and brown frogs in the habitat, using a distinct logistic regression classifier for each frog type. \n",
    "\n",
    "Consider the set of features available in this question's unmodified data set (that is before Q3b). To get an overview of the data, choose and present some basic visualization as discussed in the lectures (e.g.  scatter matrix, scatter plots, charts, etc.). Based on this visualization, for each frog type choose the 4 most promising descriptive features to predict the presence of that frog type in the habitat. \n",
    "\n",
    "Explain your strategy and choices."
   ]
  },
  {
   "cell_type": "code",
   "execution_count": null,
   "metadata": {},
   "outputs": [],
   "source": [
    "# Your code"
   ]
  },
  {
   "cell_type": "markdown",
   "metadata": {},
   "source": [
    "Explanation: "
   ]
  },
  {
   "cell_type": "markdown",
   "metadata": {},
   "source": [
    "   (d) For both frog types, train a logistic regression classifier to predict the presence of that frog type in the habitat. Use the descriptive features as chosen in Q3c. Apply the modification from Q3b if needed."
   ]
  },
  {
   "cell_type": "code",
   "execution_count": null,
   "metadata": {},
   "outputs": [],
   "source": [
    "# Your code"
   ]
  },
  {
   "cell_type": "markdown",
   "metadata": {},
   "source": [
    "   (e) For each of the two trained classifiers compute and print the confusion matrix."
   ]
  },
  {
   "cell_type": "code",
   "execution_count": null,
   "metadata": {},
   "outputs": [],
   "source": [
    "# Your code"
   ]
  },
  {
   "cell_type": "markdown",
   "metadata": {},
   "source": [
    "(f) Based on the information computed in Q3 so far, interpret and evaluate the two models and compare them. Why are they similar/different? Would you recommend the models and why (not)? How do you think the applied methods could be improved to get better results?"
   ]
  },
  {
   "cell_type": "markdown",
   "metadata": {},
   "source": [
    "Explanation: "
   ]
  },
  {
   "cell_type": "markdown",
   "metadata": {},
   "source": [
    "## Question 4 - Support Vector Machines (8 points):\n",
    "\n",
    "For this question (Q4), restrict your data set to the same features as in Q3. Similar to Q3, we want to train two distinct classifiers predicting the presence of green frogs and brown frogs in the habitat. \n",
    "\n",
    "In this question, we will use SVMs instead of logistic regression. In the following, consider *Green frogs* and *Brown frogs* to be potential target features, while all other features are potential descriptive features."
   ]
  },
  {
   "cell_type": "code",
   "execution_count": null,
   "metadata": {},
   "outputs": [],
   "source": [
    "# Your code"
   ]
  },
  {
   "cell_type": "markdown",
   "metadata": {},
   "source": [
    "   (a) Which of the potential descriptive features are suitable as an input for SVMs and which need to be modified first? Modify the data as needed and provide a brief explanation. Print the first two data rows of the modified data set."
   ]
  },
  {
   "cell_type": "code",
   "execution_count": null,
   "metadata": {},
   "outputs": [],
   "source": [
    "# Your code"
   ]
  },
  {
   "cell_type": "markdown",
   "metadata": {},
   "source": [
    "Explanation:"
   ]
  },
  {
   "cell_type": "markdown",
   "metadata": {},
   "source": [
    "   (b) For each frog type, consider the same set of 4 descriptive features as chosen in Q3 c). Generate for both target features a training and test set based on all data rows (for example, consider the sampling strategies as explained in the lecture) of the restricted data set. Briefly explain and motivate the choice of the sampling strategy as well as the size of the training and test set."
   ]
  },
  {
   "cell_type": "code",
   "execution_count": null,
   "metadata": {},
   "outputs": [],
   "source": [
    "# Your code"
   ]
  },
  {
   "cell_type": "markdown",
   "metadata": {},
   "source": [
    "Explanation:"
   ]
  },
  {
   "cell_type": "markdown",
   "metadata": {},
   "source": [
    "   (c) Use the training set to train 4 different SVMs (2 per frog type) with different parameter combinations. Use at least two distinct values for the parameters *kernel* and *C*.\n",
    "\n",
    "*Hint: depending on the size of the training data and chosen parameters, training the SVMs may take some time.*"
   ]
  },
  {
   "cell_type": "code",
   "execution_count": null,
   "metadata": {},
   "outputs": [],
   "source": [
    "# Your code"
   ]
  },
  {
   "cell_type": "markdown",
   "metadata": {},
   "source": [
    "   (d) Compute and print the mean accuracy and the classification report of the trained SVMs with respect to the test set (see instruction for examples)."
   ]
  },
  {
   "cell_type": "markdown",
   "metadata": {},
   "source": [
    "   (e) Based on the information computed in Q4 so far, interpret and evaluate the 4 SVMs and compare them. Why are they similar/different? Would you recommend using these SVMs and why (not)?"
   ]
  },
  {
   "cell_type": "markdown",
   "metadata": {},
   "source": [
    "Explanation:\n"
   ]
  },
  {
   "cell_type": "markdown",
   "metadata": {},
   "source": [
    "## Question 5 - Neural Networks (15 points)\n",
    "In this question consider the sampled_data, which is the dataset that you have created in the *Preprocessing of Dataset* section. The target features are the *different frogs*."
   ]
  },
  {
   "cell_type": "markdown",
   "metadata": {},
   "source": [
    "   (a) What are the possible inputs of your network?\n",
    "   \n",
    "     - Give the number of possible values of the different categorical inputs.\n",
    "     - Give the number of possible input patterns for the categorical data.."
   ]
  },
  {
   "cell_type": "code",
   "execution_count": null,
   "metadata": {},
   "outputs": [],
   "source": [
    "# Your code"
   ]
  },
  {
   "cell_type": "markdown",
   "metadata": {},
   "source": [
    "Explanation:"
   ]
  },
  {
   "cell_type": "markdown",
   "metadata": {},
   "source": [
    "   (b) Choose one categorical feature and two non-categorical features as input features. Create a data set with those features and the target columns (different frogs). Name this data set *NN_data*."
   ]
  },
  {
   "cell_type": "code",
   "execution_count": null,
   "metadata": {},
   "outputs": [],
   "source": [
    "# the student should choose -> results differ"
   ]
  },
  {
   "cell_type": "markdown",
   "metadata": {},
   "source": [
    "   (c) Convert the features that need to be converted using One-Hot-Encoding. Explain why you need (not) to convert these features. Name the data set *NN_data_encoded*."
   ]
  },
  {
   "cell_type": "markdown",
   "metadata": {},
   "source": [
    "Explanation:"
   ]
  },
  {
   "cell_type": "code",
   "execution_count": null,
   "metadata": {},
   "outputs": [],
   "source": [
    "# Your code"
   ]
  },
  {
   "cell_type": "markdown",
   "metadata": {},
   "source": [
    "   (d) Create a training and test set with 90% of the rows of your *NN_data_encoded* data set for training and 10% as test data set. Name them *train_NN* and *test_NN*"
   ]
  },
  {
   "cell_type": "code",
   "execution_count": null,
   "metadata": {},
   "outputs": [],
   "source": [
    "# Your code"
   ]
  },
  {
   "cell_type": "markdown",
   "metadata": {},
   "source": [
    "   (e) Train two different Neural Networks, one with a linear activation function and one with a non-linear activation function. All other settings stay default. Give the accuracy of each Neural Network for the training and test set (*train_NN* and *test_NN*. Which activation function seems to be better?"
   ]
  },
  {
   "cell_type": "code",
   "execution_count": null,
   "metadata": {},
   "outputs": [],
   "source": [
    "# (linear activation function):"
   ]
  },
  {
   "cell_type": "code",
   "execution_count": null,
   "metadata": {},
   "outputs": [],
   "source": [
    "#  (non-linear activation function):"
   ]
  },
  {
   "cell_type": "markdown",
   "metadata": {},
   "source": [
    "Explanation:"
   ]
  },
  {
   "cell_type": "markdown",
   "metadata": {},
   "source": [
    "   (f) Based on your result of (e) train 2 more Neural Networks with different settings (change at least 4 parameters (2 each)). Explain your parameters and the choice of the activation function. Evaluate the different Neural Networks with your test set by giving the accuracy. Try to increase the accuracy and analyse the factors that prohibit better accuracy."
   ]
  },
  {
   "cell_type": "code",
   "execution_count": null,
   "metadata": {},
   "outputs": [],
   "source": [
    "# code for 2 more NN"
   ]
  },
  {
   "cell_type": "markdown",
   "metadata": {},
   "source": [
    "Explanation:"
   ]
  },
  {
   "cell_type": "markdown",
   "metadata": {},
   "source": [
    "## Question 6 - Evaluation (10 Points)"
   ]
  },
  {
   "cell_type": "markdown",
   "metadata": {},
   "source": [
    "   (a) Consider two models of question 5 of your choice with the respective datasets (training and test data)."
   ]
  },
  {
   "cell_type": "markdown",
   "metadata": {},
   "source": [
    "- Create training and test data for 3-fold cross validation."
   ]
  },
  {
   "cell_type": "code",
   "execution_count": null,
   "metadata": {},
   "outputs": [],
   "source": [
    "# Your code"
   ]
  },
  {
   "cell_type": "markdown",
   "metadata": {},
   "source": [
    "- Print confusion matrices on the training data and the cell-by-cell summation of the results."
   ]
  },
  {
   "cell_type": "code",
   "execution_count": null,
   "metadata": {},
   "outputs": [],
   "source": [
    "# Your code for the confusion matrices on the training data"
   ]
  },
  {
   "cell_type": "markdown",
   "metadata": {},
   "source": [
    "- Print the cell-by-cell summation of the confusion matrices on the test data."
   ]
  },
  {
   "cell_type": "code",
   "execution_count": null,
   "metadata": {},
   "outputs": [],
   "source": [
    "# Your code for the confusion matrices on the test data"
   ]
  },
  {
   "cell_type": "markdown",
   "metadata": {},
   "source": [
    "- Print the precision, recall and f1-scores on the test data for each fold and model. Give the unaggregated results."
   ]
  },
  {
   "cell_type": "code",
   "execution_count": null,
   "metadata": {},
   "outputs": [],
   "source": [
    "# Your code for precision, recall and F1-scores on the test data"
   ]
  },
  {
   "cell_type": "markdown",
   "metadata": {},
   "source": [
    "- Compute accuracy scores on training and test data (give explicitly the result for each fold)."
   ]
  },
  {
   "cell_type": "code",
   "execution_count": null,
   "metadata": {},
   "outputs": [],
   "source": [
    "# Your code for accuracy scores on training and test data"
   ]
  },
  {
   "cell_type": "markdown",
   "metadata": {},
   "source": [
    "In order to turn numbers into insights, please comment on your findings. Motivate the answers to the following questions using the metrics and the findings in the **questions 2 through 5** of the assignment."
   ]
  },
  {
   "cell_type": "markdown",
   "metadata": {},
   "source": [
    "   (b) What is, in your opinion, the best model? Motivate your answer with the findings above."
   ]
  },
  {
   "cell_type": "markdown",
   "metadata": {},
   "source": [
    "Explanation:"
   ]
  },
  {
   "cell_type": "markdown",
   "metadata": {},
   "source": [
    "   (c) Does any model suffer from underfitting or overfitting? Motivate your answer with the findings above."
   ]
  },
  {
   "cell_type": "markdown",
   "metadata": {},
   "source": [
    "Explanation:"
   ]
  },
  {
   "cell_type": "markdown",
   "metadata": {},
   "source": [
    "## Question 7 - Clustering (8 points): "
   ]
  },
  {
   "cell_type": "markdown",
   "metadata": {},
   "source": [
    "(a) For this question, use the extracted data set you created in the preprocessing step (sampled_data). Drop all the columns expect \"VegetationR\", \"UseR\", \"FishingR\", \"RoadDistanceR\", \"BuildingR\", \"RoadDistanceR\", and \"PollutionR\". Use a dendogram to find the overview of the clusters that you can extract for the remaining columns."
   ]
  },
  {
   "cell_type": "code",
   "execution_count": null,
   "metadata": {},
   "outputs": [],
   "source": [
    "# Your code"
   ]
  },
  {
   "cell_type": "markdown",
   "metadata": {},
   "source": [
    "(b) What does the vertical and horizontal axis show in the dendogram? Why the distance between the clusters in the dendogram generally decreases, when we go from top to down in the dendogram?"
   ]
  },
  {
   "cell_type": "markdown",
   "metadata": {},
   "source": [
    "(c) Split the diagram at 3 and find the number the clusters at this point."
   ]
  },
  {
   "cell_type": "code",
   "execution_count": null,
   "metadata": {},
   "outputs": [],
   "source": [
    "# Your code"
   ]
  },
  {
   "cell_type": "markdown",
   "metadata": {},
   "source": [
    "(d) Using agglomerative clustering with the number of clusters found in the previous section and a scatter diagram, show the discovered cluster for \"VegetationR\" and \"UseR\" in different colors. "
   ]
  },
  {
   "cell_type": "code",
   "execution_count": null,
   "metadata": {},
   "outputs": [],
   "source": [
    "# Your code"
   ]
  }
 ],
 "metadata": {
  "kernelspec": {
   "display_name": "Python 3",
   "language": "python",
   "name": "python3"
  },
  "language_info": {
   "codemirror_mode": {
    "name": "ipython",
    "version": 3
   },
   "file_extension": ".py",
   "mimetype": "text/x-python",
   "name": "python",
   "nbconvert_exporter": "python",
   "pygments_lexer": "ipython3",
   "version": "3.7.9"
  }
 },
 "nbformat": 4,
 "nbformat_minor": 2
}
